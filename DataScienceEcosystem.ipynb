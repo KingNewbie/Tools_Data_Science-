{
 "cells": [
  {
   "cell_type": "markdown",
   "id": "26a4fbca-9cd9-45b0-ac48-87e8641ee497",
   "metadata": {},
   "source": [
    "# Data Science Tools and Ecosystem"
   ]
  },
  {
   "cell_type": "markdown",
   "id": "84e63ba7-0f01-48e4-a6e5-8aa0c0b2922f",
   "metadata": {},
   "source": [
    "Welcome to the world of Data Science Tools and Ecosystem - a diverse set of tools and technologies empowering data scientists to extract, analyze, and understand valuable insights from vast amounts of data, driving informed decisions and meaningful discoveries"
   ]
  },
  {
   "cell_type": "markdown",
   "id": "bd05183c-5def-4f9f-93d0-9422d3d90c80",
   "metadata": {},
   "source": [
    "## Autor \n",
    "Reinaldo Loyo"
   ]
  },
  {
   "cell_type": "markdown",
   "id": "0472bd70-39e1-4770-837f-4d03b04d0ce9",
   "metadata": {},
   "source": [
    "**Objectives:**\n",
    "* Understanding Data Analysis Techniques\n",
    "* Developing Machine Learning Skills\n",
    "* Applying Data Science in Real Projects"
   ]
  },
  {
   "cell_type": "markdown",
   "id": "b28da25d-cdc5-4f9e-b6d9-6594421dcfd4",
   "metadata": {},
   "source": [
    "Some of the popular languages that Data Scientists use are:\n",
    "1. Python\n",
    "2. R\n",
    "3. SQL"
   ]
  },
  {
   "cell_type": "markdown",
   "id": "96df8101-7416-4fff-b561-393bd18bb170",
   "metadata": {},
   "source": [
    "Some of the commonly used libraries used by Data Scientists include: \n",
    "1. NumPy\n",
    "2. Pandas\n",
    "3. Matplotlib\n",
    "4. scikit-learn\n",
    "5. TensorFlow\n",
    "6. PyTorch\n",
    "7. Seaborn"
   ]
  },
  {
   "cell_type": "markdown",
   "id": "2a21b28c-e9c6-4d8a-8a77-4ec059a964fa",
   "metadata": {
    "tags": []
   },
   "source": [
    "Data Science Tools:\n",
    "1. Jupyter Notebook\n",
    "2. RStudio\n",
    "3. Anaconda"
   ]
  },
  {
   "cell_type": "markdown",
   "id": "77e6027a-6113-46ed-addb-a87c2d263473",
   "metadata": {
    "tags": []
   },
   "source": [
    "### Below are a few examples of evaluating arithmetic expressions in Python"
   ]
  },
  {
   "cell_type": "code",
   "execution_count": 14,
   "id": "64d2d8be-1761-4928-8222-2edec0d0d67f",
   "metadata": {
    "tags": []
   },
   "outputs": [
    {
     "name": "stdout",
     "output_type": "stream",
     "text": [
      "14\n"
     ]
    }
   ],
   "source": [
    "    result = 10 + 4\n",
    "    print(result)"
   ]
  },
  {
   "cell_type": "markdown",
   "id": "2d7e56dd-f39e-477f-b850-6abfabd9ae39",
   "metadata": {},
   "source": [
    "This a simple arithmetic expression to mutiply then add integers"
   ]
  },
  {
   "cell_type": "code",
   "execution_count": 15,
   "id": "9646e9ff-d5f1-4805-8603-23a60e6a4ee5",
   "metadata": {
    "tags": []
   },
   "outputs": [
    {
     "data": {
      "text/plain": [
       "17"
      ]
     },
     "execution_count": 15,
     "metadata": {},
     "output_type": "execute_result"
    }
   ],
   "source": [
    "(3*4)+5"
   ]
  },
  {
   "cell_type": "markdown",
   "id": "0ea40f04-c5f2-4b83-8e06-1d9231196543",
   "metadata": {},
   "source": [
    "This will convert 200 minutes to hours by diving by 60"
   ]
  },
  {
   "cell_type": "code",
   "execution_count": 16,
   "id": "8585a2cf-0e9d-4720-880f-1ceac57c7d47",
   "metadata": {
    "tags": []
   },
   "outputs": [
    {
     "data": {
      "text/plain": [
       "3.3333333333333335"
      ]
     },
     "execution_count": 16,
     "metadata": {},
     "output_type": "execute_result"
    }
   ],
   "source": [
    "200/60"
   ]
  },
  {
   "cell_type": "code",
   "execution_count": null,
   "id": "fea09507-f220-442b-9aa3-558c4969a1f8",
   "metadata": {},
   "outputs": [],
   "source": []
  }
 ],
 "metadata": {
  "kernelspec": {
   "display_name": "Python 3 (ipykernel)",
   "language": "python",
   "name": "python3"
  },
  "language_info": {
   "codemirror_mode": {
    "name": "ipython",
    "version": 3
   },
   "file_extension": ".py",
   "mimetype": "text/x-python",
   "name": "python",
   "nbconvert_exporter": "python",
   "pygments_lexer": "ipython3",
   "version": "3.11.3"
  }
 },
 "nbformat": 4,
 "nbformat_minor": 5
}
